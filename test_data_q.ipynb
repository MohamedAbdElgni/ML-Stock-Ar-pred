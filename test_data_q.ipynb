{
 "cells": [
  {
   "cell_type": "code",
   "execution_count": 77,
   "metadata": {},
   "outputs": [
    {
     "name": "stdout",
     "output_type": "stream",
     "text": [
      "The autoreload extension is already loaded. To reload it, use:\n",
      "  %reload_ext autoreload\n"
     ]
    }
   ],
   "source": [
    "%load_ext autoreload\n",
    "\n",
    "%autoreload \n",
    "from getdata import YahooFinance\n",
    "from getdata import SQLrepo\n",
    "import sqlite3\n",
    "import pandas as pd\n",
    "import numpy as np\n",
    "import matplotlib.pyplot as plt\n",
    "\n",
    "from statsmodels.graphics.tsaplots import plot_acf, plot_pacf\n",
    "from statsmodels.tsa.arima.model import ARIMA\n",
    "from statsmodels.tsa.ar_model import AutoReg\n",
    "from dateutil.parser import parse\n"
   ]
  },
  {
   "cell_type": "code",
   "execution_count": 5,
   "metadata": {},
   "outputs": [],
   "source": [
    "db_name = \"stocks.sqlite\"\n",
    "connection=sqlite3.connect(database=db_name,check_same_thread=False)\n",
    "repo=SQLrepo(connection)"
   ]
  },
  {
   "cell_type": "code",
   "execution_count": 100,
   "metadata": {},
   "outputs": [
    {
     "data": {
      "text/html": [
       "<div>\n",
       "<style scoped>\n",
       "    .dataframe tbody tr th:only-of-type {\n",
       "        vertical-align: middle;\n",
       "    }\n",
       "\n",
       "    .dataframe tbody tr th {\n",
       "        vertical-align: top;\n",
       "    }\n",
       "\n",
       "    .dataframe thead th {\n",
       "        text-align: right;\n",
       "    }\n",
       "</style>\n",
       "<table border=\"1\" class=\"dataframe\">\n",
       "  <thead>\n",
       "    <tr style=\"text-align: right;\">\n",
       "      <th></th>\n",
       "      <th>Date</th>\n",
       "      <th>Close</th>\n",
       "    </tr>\n",
       "  </thead>\n",
       "  <tbody>\n",
       "    <tr>\n",
       "      <th>0</th>\n",
       "      <td>2004-08-19 00:00:00-04:00</td>\n",
       "      <td>2.499133</td>\n",
       "    </tr>\n",
       "    <tr>\n",
       "      <th>1</th>\n",
       "      <td>2004-08-20 00:00:00-04:00</td>\n",
       "      <td>2.697639</td>\n",
       "    </tr>\n",
       "    <tr>\n",
       "      <th>2</th>\n",
       "      <td>2004-08-23 00:00:00-04:00</td>\n",
       "      <td>2.724787</td>\n",
       "    </tr>\n",
       "    <tr>\n",
       "      <th>3</th>\n",
       "      <td>2004-08-24 00:00:00-04:00</td>\n",
       "      <td>2.611960</td>\n",
       "    </tr>\n",
       "    <tr>\n",
       "      <th>4</th>\n",
       "      <td>2004-08-25 00:00:00-04:00</td>\n",
       "      <td>2.640104</td>\n",
       "    </tr>\n",
       "    <tr>\n",
       "      <th>5</th>\n",
       "      <td>2004-08-26 00:00:00-04:00</td>\n",
       "      <td>2.687676</td>\n",
       "    </tr>\n",
       "    <tr>\n",
       "      <th>6</th>\n",
       "      <td>2004-08-27 00:00:00-04:00</td>\n",
       "      <td>2.643840</td>\n",
       "    </tr>\n",
       "    <tr>\n",
       "      <th>7</th>\n",
       "      <td>2004-08-30 00:00:00-04:00</td>\n",
       "      <td>2.540727</td>\n",
       "    </tr>\n",
       "    <tr>\n",
       "      <th>8</th>\n",
       "      <td>2004-08-31 00:00:00-04:00</td>\n",
       "      <td>2.549693</td>\n",
       "    </tr>\n",
       "    <tr>\n",
       "      <th>9</th>\n",
       "      <td>2004-09-01 00:00:00-04:00</td>\n",
       "      <td>2.496891</td>\n",
       "    </tr>\n",
       "  </tbody>\n",
       "</table>\n",
       "</div>"
      ],
      "text/plain": [
       "                        Date     Close\n",
       "0  2004-08-19 00:00:00-04:00  2.499133\n",
       "1  2004-08-20 00:00:00-04:00  2.697639\n",
       "2  2004-08-23 00:00:00-04:00  2.724787\n",
       "3  2004-08-24 00:00:00-04:00  2.611960\n",
       "4  2004-08-25 00:00:00-04:00  2.640104\n",
       "5  2004-08-26 00:00:00-04:00  2.687676\n",
       "6  2004-08-27 00:00:00-04:00  2.643840\n",
       "7  2004-08-30 00:00:00-04:00  2.540727\n",
       "8  2004-08-31 00:00:00-04:00  2.549693\n",
       "9  2004-09-01 00:00:00-04:00  2.496891"
      ]
     },
     "execution_count": 100,
     "metadata": {},
     "output_type": "execute_result"
    }
   ],
   "source": [
    "df1=repo.read_table(table_name=\"Google\")\n",
    "df1.head(10)"
   ]
  },
  {
   "cell_type": "code",
   "execution_count": 101,
   "metadata": {},
   "outputs": [],
   "source": [
    "df=repo.read_table(table_name=\"Google\")\n",
    "\n",
    "df['Date'] = pd.to_datetime(df['Date'].str.replace(r'-\\d{2}:\\d{2}$', '', regex=True))\n",
    "df.set_index('Date', inplace=True)\n",
    "\n",
    "df=df.resample('d').ffill().squeeze()\n"
   ]
  },
  {
   "cell_type": "code",
   "execution_count": 102,
   "metadata": {},
   "outputs": [
    {
     "data": {
      "text/plain": [
       "Date\n",
       "2004-08-19    2.499133\n",
       "2004-08-20    2.697639\n",
       "2004-08-21    2.697639\n",
       "2004-08-22    2.697639\n",
       "2004-08-23    2.724787\n",
       "2004-08-24    2.611960\n",
       "2004-08-25    2.640104\n",
       "2004-08-26    2.687676\n",
       "2004-08-27    2.643840\n",
       "2004-08-28    2.643840\n",
       "Freq: D, Name: Close, dtype: float64"
      ]
     },
     "execution_count": 102,
     "metadata": {},
     "output_type": "execute_result"
    }
   ],
   "source": [
    "df.head(10)"
   ]
  },
  {
   "cell_type": "code",
   "execution_count": 59,
   "metadata": {},
   "outputs": [
    {
     "data": {
      "text/plain": [
       "Date\n",
       "2014-11-18 00:00:00+00:00    25.577393\n",
       "2014-11-19 00:00:00+00:00    25.909472\n",
       "2014-11-20 00:00:00+00:00    25.729969\n",
       "2014-11-21 00:00:00+00:00    26.097960\n",
       "2014-11-24 00:00:00+00:00    26.133860\n",
       "2014-11-25 00:00:00+00:00    26.618521\n",
       "2014-11-26 00:00:00+00:00    26.387407\n",
       "2014-11-27 00:00:00+00:00    26.701551\n",
       "2014-11-28 00:00:00+00:00    26.701551\n",
       "2014-12-01 00:00:00+00:00    26.685835\n",
       "2014-12-02 00:00:00+00:00    25.819721\n",
       "2014-12-03 00:00:00+00:00    25.720993\n",
       "2014-12-04 00:00:00+00:00    26.012697\n",
       "2014-12-05 00:00:00+00:00    25.913961\n",
       "2014-12-08 00:00:00+00:00    25.804014\n",
       "Freq: B, Name: Close, dtype: float64"
      ]
     },
     "execution_count": 59,
     "metadata": {},
     "output_type": "execute_result"
    }
   ],
   "source": [
    "cut=int(len(df) * 0.80)\n",
    "y_train= df.iloc[:cut]\n",
    "y_test = df.iloc[cut:]\n",
    "y_test.head(15)"
   ]
  },
  {
   "cell_type": "code",
   "execution_count": null,
   "metadata": {},
   "outputs": [],
   "source": [
    "returns= df.pct_change().dropna()"
   ]
  }
 ],
 "metadata": {
  "kernelspec": {
   "display_name": "Python 3",
   "language": "python",
   "name": "python3"
  },
  "language_info": {
   "codemirror_mode": {
    "name": "ipython",
    "version": 3
   },
   "file_extension": ".py",
   "mimetype": "text/x-python",
   "name": "python",
   "nbconvert_exporter": "python",
   "pygments_lexer": "ipython3",
   "version": "3.10.2"
  },
  "orig_nbformat": 4
 },
 "nbformat": 4,
 "nbformat_minor": 2
}
