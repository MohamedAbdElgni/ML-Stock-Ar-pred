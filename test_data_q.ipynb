{
 "cells": [
  {
   "cell_type": "code",
   "execution_count": 34,
   "metadata": {},
   "outputs": [
    {
     "name": "stdout",
     "output_type": "stream",
     "text": [
      "The autoreload extension is already loaded. To reload it, use:\n",
      "  %reload_ext autoreload\n"
     ]
    }
   ],
   "source": [
    "%load_ext autoreload\n",
    "\n",
    "%autoreload \n",
    "from getdata import YahooFinance\n",
    "from getdata import SQLrepo\n",
    "import sqlite3\n",
    "import pandas as pd\n",
    "import numpy as np\n",
    "import matplotlib.pyplot as plt\n",
    "\n",
    "from statsmodels.graphics.tsaplots import plot_acf, plot_pacf\n",
    "from statsmodels.tsa.arima.model import ARIMA\n",
    "from statsmodels.tsa.ar_model import AutoReg\n",
    "from dateutil.parser import parse\n",
    "from model_s import StockModel\n",
    "from datetime import datetime\n",
    "import warnings\n",
    "warnings.simplefilter(action=\"ignore\", category=FutureWarning)\n",
    "import plotly.express as px\n",
    "\n"
   ]
  },
  {
   "cell_type": "code",
   "execution_count": 35,
   "metadata": {},
   "outputs": [
    {
     "name": "stdout",
     "output_type": "stream",
     "text": [
      "Starting Google training Arima(6, 0, 0) with Returns True\n",
      "Performing Walk Forward Val.. for 11 OBS with trained==> 205\n",
      "Null Values Check ====> 0\n"
     ]
    },
    {
     "name": "stderr",
     "output_type": "stream",
     "text": [
      "100%|██████████| 11/11 [00:02<00:00,  4.10it/s]\n"
     ]
    },
    {
     "name": "stdout",
     "output_type": "stream",
     "text": [
      "=========== Google Training Ends ===========\n",
      "Test MAE ==> 0.011135818367462936\n",
      "Training Baseline==> 0.010131833297524621\n"
     ]
    }
   ],
   "source": [
    "model=StockModel(table_name=\"Google\", order=(6,0,0))\n",
    "model.train_model(cut=0.95,returns= True)"
   ]
  },
  {
   "cell_type": "code",
   "execution_count": 36,
   "metadata": {},
   "outputs": [
    {
     "data": {
      "text/plain": [
       "2021-10-18    0.003592\n",
       "2021-10-19    0.003774\n",
       "Freq: B, Name: predicted_mean, dtype: float64"
      ]
     },
     "execution_count": 36,
     "metadata": {},
     "output_type": "execute_result"
    }
   ],
   "source": [
    "\n",
    "#model.plot_pred\n",
    "model.trained_model.forecast(2)"
   ]
  },
  {
   "cell_type": "code",
   "execution_count": 37,
   "metadata": {},
   "outputs": [
    {
     "data": {
      "text/plain": [
       "Date\n",
       "2021-10-04   -0.019767\n",
       "2021-10-05    0.018032\n",
       "2021-10-06    0.008643\n",
       "2021-10-07    0.013334\n",
       "2021-10-08    0.006254\n",
       "2021-10-11   -0.008629\n",
       "2021-10-12   -0.015373\n",
       "2021-10-13    0.008682\n",
       "2021-10-14    0.025468\n",
       "2021-10-15    0.001860\n",
       "2021-10-18    0.009074\n",
       "Freq: B, Name: Close, dtype: float64"
      ]
     },
     "execution_count": 37,
     "metadata": {},
     "output_type": "execute_result"
    }
   ],
   "source": [
    "model.y_test"
   ]
  },
  {
   "cell_type": "code",
   "execution_count": 38,
   "metadata": {},
   "outputs": [
    {
     "data": {
      "text/html": [
       "<div>\n",
       "<style scoped>\n",
       "    .dataframe tbody tr th:only-of-type {\n",
       "        vertical-align: middle;\n",
       "    }\n",
       "\n",
       "    .dataframe tbody tr th {\n",
       "        vertical-align: top;\n",
       "    }\n",
       "\n",
       "    .dataframe thead th {\n",
       "        text-align: right;\n",
       "    }\n",
       "</style>\n",
       "<table border=\"1\" class=\"dataframe\">\n",
       "  <thead>\n",
       "    <tr style=\"text-align: right;\">\n",
       "      <th></th>\n",
       "      <th>y_test</th>\n",
       "      <th>y_pred</th>\n",
       "    </tr>\n",
       "  </thead>\n",
       "  <tbody>\n",
       "    <tr>\n",
       "      <th>2021-10-04</th>\n",
       "      <td>-0.019767</td>\n",
       "      <td>0.004259</td>\n",
       "    </tr>\n",
       "    <tr>\n",
       "      <th>2021-10-05</th>\n",
       "      <td>0.018032</td>\n",
       "      <td>0.012483</td>\n",
       "    </tr>\n",
       "    <tr>\n",
       "      <th>2021-10-06</th>\n",
       "      <td>0.008643</td>\n",
       "      <td>0.001399</td>\n",
       "    </tr>\n",
       "    <tr>\n",
       "      <th>2021-10-07</th>\n",
       "      <td>0.013334</td>\n",
       "      <td>0.010817</td>\n",
       "    </tr>\n",
       "    <tr>\n",
       "      <th>2021-10-08</th>\n",
       "      <td>0.006254</td>\n",
       "      <td>-0.005455</td>\n",
       "    </tr>\n",
       "    <tr>\n",
       "      <th>2021-10-11</th>\n",
       "      <td>-0.008629</td>\n",
       "      <td>0.007680</td>\n",
       "    </tr>\n",
       "    <tr>\n",
       "      <th>2021-10-12</th>\n",
       "      <td>-0.015373</td>\n",
       "      <td>-0.000631</td>\n",
       "    </tr>\n",
       "    <tr>\n",
       "      <th>2021-10-13</th>\n",
       "      <td>0.008682</td>\n",
       "      <td>0.000164</td>\n",
       "    </tr>\n",
       "    <tr>\n",
       "      <th>2021-10-14</th>\n",
       "      <td>0.025468</td>\n",
       "      <td>0.000670</td>\n",
       "    </tr>\n",
       "    <tr>\n",
       "      <th>2021-10-15</th>\n",
       "      <td>0.001860</td>\n",
       "      <td>0.003460</td>\n",
       "    </tr>\n",
       "    <tr>\n",
       "      <th>2021-10-18</th>\n",
       "      <td>0.009074</td>\n",
       "      <td>0.003592</td>\n",
       "    </tr>\n",
       "    <tr>\n",
       "      <th>2021-10-18</th>\n",
       "      <td>0.009074</td>\n",
       "      <td>0.003592</td>\n",
       "    </tr>\n",
       "    <tr>\n",
       "      <th>2021-10-19</th>\n",
       "      <td>NaN</td>\n",
       "      <td>0.003774</td>\n",
       "    </tr>\n",
       "    <tr>\n",
       "      <th>2021-10-20</th>\n",
       "      <td>NaN</td>\n",
       "      <td>0.003414</td>\n",
       "    </tr>\n",
       "  </tbody>\n",
       "</table>\n",
       "</div>"
      ],
      "text/plain": [
       "              y_test    y_pred\n",
       "2021-10-04 -0.019767  0.004259\n",
       "2021-10-05  0.018032  0.012483\n",
       "2021-10-06  0.008643  0.001399\n",
       "2021-10-07  0.013334  0.010817\n",
       "2021-10-08  0.006254 -0.005455\n",
       "2021-10-11 -0.008629  0.007680\n",
       "2021-10-12 -0.015373 -0.000631\n",
       "2021-10-13  0.008682  0.000164\n",
       "2021-10-14  0.025468  0.000670\n",
       "2021-10-15  0.001860  0.003460\n",
       "2021-10-18  0.009074  0.003592\n",
       "2021-10-18  0.009074  0.003592\n",
       "2021-10-19       NaN  0.003774\n",
       "2021-10-20       NaN  0.003414"
      ]
     },
     "execution_count": 38,
     "metadata": {},
     "output_type": "execute_result"
    }
   ],
   "source": [
    "model.preds_actual"
   ]
  },
  {
   "attachments": {},
   "cell_type": "markdown",
   "metadata": {},
   "source": [
    "# Strategy: 1 "
   ]
  },
  {
   "cell_type": "code",
   "execution_count": 74,
   "metadata": {},
   "outputs": [],
   "source": [
    "y_pred=model.preds\n",
    "y_prices=model.prices"
   ]
  },
  {
   "cell_type": "code",
   "execution_count": 83,
   "metadata": {},
   "outputs": [
    {
     "name": "stdout",
     "output_type": "stream",
     "text": [
      "2022-12-06 - Buy on 2022-12-07 00:00:00 10.51 shares at price 95.1500015258789 - Reason: The prediction on 2022-12-06 were above threshold \n",
      "2022-12-08 - Sell 10.51 shares at price 93.94999694824219 - Reason: \n",
      "2023-02-08 - Buy on 2023-02-09 00:00:00 10.34 shares at price 95.45999908447266 - Reason: The prediction on 2023-02-08 were above threshold \n",
      "2023-02-10 - Sell 10.34 shares at price 94.86000061035156 - Reason: \n",
      "2023-02-13 - Buy on 2023-02-14 00:00:00 10.20 shares at price 94.94999694824219 - Reason: The prediction on 2023-02-13 were above threshold \n",
      "2023-02-15 - Sell 10.20 shares at price 97.0999984741211 - Reason: \n",
      "Initial Investment: 1000\n",
      "Final Portfolio Value: 959.0728437308283\n"
     ]
    }
   ],
   "source": [
    "import datetime\n",
    "\n",
    "threshold = 0.005\n",
    "portfolio = []  # To store the portfolio of trades\n",
    "investment = 1000  # Initial investment amount\n",
    "portfolio_value = investment  # Portfolio value starts with the initial investment\n",
    "\n",
    "# Iterate through the predictions and prices\n",
    "for i in range(len(y_pred)-1):  # Subtract 1 to avoid index out of range error on the last day\n",
    "    if y_pred[i] > threshold:\n",
    "        # Buy the stock\n",
    "        buy_price = y_prices[i+1]\n",
    "        shares_to_buy = portfolio_value / buy_price  # Calculate the number of shares to buy\n",
    "        date = y_pred.index[i].strftime(\"%Y-%m-%d\")  # Get the date from the index\n",
    "        reason = f\"The prediction on {date} were above threshold \"  # Change this to the specific reason for buying\n",
    "        portfolio.append((f'Buy on {y_pred.index[i+1]}', buy_price, date, shares_to_buy, reason))\n",
    "        portfolio_value -= investment  # Deduct the investment amount from the portfolio value\n",
    "\n",
    "        # Sell the stock on the next trading day\n",
    "        sell_price = y_prices[i+2]\n",
    "        shares_to_sell = shares_to_buy\n",
    "        date = y_pred.index[i+2].strftime(\"%Y-%m-%d\")  # Get the date from the next index\n",
    "        portfolio.append(('Sell', sell_price, date, shares_to_sell, \"\"))  # Add an empty string as a placeholder\n",
    "        portfolio_value += shares_to_sell * sell_price  # Add the sale proceeds to the portfolio value\n",
    "\n",
    "# Display the portfolio\n",
    "for trade in portfolio:\n",
    "    action, price, date, shares, reason = trade[:5]  # Extract the first 5 elements\n",
    "    print(f\"{date} - {action} {shares:.2f} shares at price {price} - Reason: {reason}\")\n",
    "\n",
    "# Calculate the final portfolio value\n",
    "final_portfolio_value = portfolio_value\n",
    "\n",
    "print(\"Initial Investment:\", investment)\n",
    "print(\"Final Portfolio Value:\", final_portfolio_value)\n"
   ]
  },
  {
   "cell_type": "code",
   "execution_count": 81,
   "metadata": {},
   "outputs": [
    {
     "name": "stdout",
     "output_type": "stream",
     "text": [
      "2022-12-06 - Buy on 2022-12-07 00:00:00 10.51 shares at price 95.1500015258789 - Reason: The prediction on 2022-12-06 were above threshold \n",
      "2022-12-08 - Sell 10.51 shares at price 93.94999694824219 - Reason: \n",
      "2023-02-08 - Buy on 2023-02-09 00:00:00 10.34 shares at price 95.45999908447266 - Reason: The prediction on 2023-02-08 were above threshold \n",
      "2023-02-10 - Sell 10.34 shares at price 94.86000061035156 - Reason: \n",
      "2023-02-13 - Buy on 2023-02-14 00:00:00 10.20 shares at price 94.94999694824219 - Reason: The prediction on 2023-02-13 were above threshold \n",
      "2023-02-15 - Sell 10.20 shares at price 97.0999984741211 - Reason: \n",
      "Initial Investment: 1000\n",
      "Final Portfolio Value: 959.0728437308283\n"
     ]
    }
   ],
   "source": [
    "import datetime\n",
    "\n",
    "threshold = 0.005\n",
    "portfolio = []  # To store the portfolio of trades\n",
    "investment = 1000  # Initial investment amount\n",
    "portfolio_value = investment  # Portfolio value starts with the initial investment\n",
    "\n",
    "# Iterate through the predictions and prices\n",
    "for i in range(len(y_pred)-1):  # Subtract 1 to avoid index out of range error on the last day\n",
    "    if y_pred[i] > threshold:\n",
    "        # Buy the stock\n",
    "        buy_price = y_prices[i+1]\n",
    "        shares_to_buy = portfolio_value / buy_price  # Calculate the number of shares to buy\n",
    "        date = y_pred.index[i].strftime(\"%Y-%m-%d\")  # Get the date from the index\n",
    "        reason = f\"The prediction on {date} were above threshold \"  # Change this to the specific reason for buying\n",
    "        portfolio.append((f'Buy on {y_pred.index[i+1]}', buy_price, date, shares_to_buy, reason))\n",
    "        portfolio_value -= investment  # Deduct the investment amount from the portfolio value\n",
    "\n",
    "        # Sell the stock on the next trading day if it is within the bounds of the price array\n",
    "        if i + 2 < len(y_prices):\n",
    "            sell_price = y_prices[i+2]\n",
    "            shares_to_sell = shares_to_buy\n",
    "            date = y_pred.index[i+2].strftime(\"%Y-%m-%d\")  # Get the date from the next index\n",
    "            portfolio.append(('Sell', sell_price, date, shares_to_sell, \"\"))  # Add an empty string as a placeholder\n",
    "            portfolio_value += shares_to_sell * sell_price  # Add the sale proceeds to the portfolio value\n",
    "\n",
    "# Display the portfolio\n",
    "for trade in portfolio:\n",
    "    action, price, date, shares, reason = trade[:5]  # Extract the first 5 elements\n",
    "    print(f\"{date} - {action} {shares:.2f} shares at price {price} - Reason: {reason}\")\n",
    "\n",
    "# Calculate the final portfolio value\n",
    "final_portfolio_value = portfolio_value\n",
    "\n",
    "print(\"Initial Investment:\", investment)\n",
    "print(\"Final Portfolio Value:\", final_portfolio_value)\n"
   ]
  },
  {
   "cell_type": "code",
   "execution_count": null,
   "metadata": {},
   "outputs": [],
   "source": []
  }
 ],
 "metadata": {
  "kernelspec": {
   "display_name": "Python 3",
   "language": "python",
   "name": "python3"
  },
  "language_info": {
   "codemirror_mode": {
    "name": "ipython",
    "version": 3
   },
   "file_extension": ".py",
   "mimetype": "text/x-python",
   "name": "python",
   "nbconvert_exporter": "python",
   "pygments_lexer": "ipython3",
   "version": "3.10.2"
  },
  "orig_nbformat": 4
 },
 "nbformat": 4,
 "nbformat_minor": 2
}
